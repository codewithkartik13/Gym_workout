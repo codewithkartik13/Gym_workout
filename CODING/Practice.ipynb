{
 "cells": [
  {
   "cell_type": "markdown",
   "id": "46d8a591",
   "metadata": {},
   "source": [
    "Swap 2 variable"
   ]
  },
  {
   "cell_type": "code",
   "execution_count": 4,
   "id": "baf56189",
   "metadata": {},
   "outputs": [
    {
     "name": "stdout",
     "output_type": "stream",
     "text": [
      "before swapping the value of a is : txt\n",
      "before swapping the value of b is : vxt\n",
      "after swapping the value of a is : vxt\n",
      "after swapping the value of b is : txt\n",
      "-----------------------------------\n",
      "before swapping the value of a is : mojo\n",
      "before swapping the value of b is : kojo\n",
      "after swapping the value of a and b is : kojo mojo\n"
     ]
    }
   ],
   "source": [
    "# METHOD 1\n",
    "\n",
    "a=input(\"enter the value of first variable number :\")\n",
    "b=input(\"enter the value of second variable number :\")\n",
    "print(\"before swapping the value of a is :\",a)\n",
    "print(\"before swapping the value of b is :\",b)\n",
    "a,b=b,a\n",
    "print(\"after swapping the value of a is :\",a)\n",
    "print(\"after swapping the value of b is :\",b)\n",
    "\n",
    "\n",
    "# METHOD 2\n",
    "print('-'*35)\n",
    "a=input(\"enter the value of first variable number :\")\n",
    "b=input(\"enter the value of second variable number :\")\n",
    "print(\"before swapping the value of a is :\",a)\n",
    "print(\"before swapping the value of b is :\",b)\n",
    "temp=a\n",
    "a=b\n",
    "b=temp\n",
    "print(\"after swapping the value of a and b is :\",a,b)"
   ]
  },
  {
   "cell_type": "markdown",
   "id": "173fe29f",
   "metadata": {},
   "source": [
    "Celsius to Fahrenheit conversion"
   ]
  },
  {
   "cell_type": "code",
   "execution_count": 5,
   "id": "96eb3e61",
   "metadata": {},
   "outputs": [
    {
     "name": "stdout",
     "output_type": "stream",
     "text": [
      "5754.0C is equal to fahrenheit : 10389.2F\n"
     ]
    }
   ],
   "source": [
    "celsius = float(input(\"Enter temperature in Celsius: \"))\n",
    "fahrenheit = (celsius * 9/5) + 32\n",
    "print(f\"{celsius}C is equal to fahrenheit : {fahrenheit}F\")"
   ]
  },
  {
   "cell_type": "markdown",
   "id": "4871084a",
   "metadata": {},
   "source": [
    "Calendar "
   ]
  },
  {
   "cell_type": "code",
   "execution_count": null,
   "id": "08d2adeb",
   "metadata": {},
   "outputs": [
    {
     "name": "stdout",
     "output_type": "stream",
     "text": [
      "    October 2024\n",
      "Mo Tu We Th Fr Sa Su\n",
      "    1  2  3  4  5  6\n",
      " 7  8  9 10 11 12 13\n",
      "14 15 16 17 18 19 20\n",
      "21 22 23 24 25 26 27\n",
      "28 29 30 31\n",
      "\n"
     ]
    }
   ],
   "source": [
    "import calendar\n",
    "yy = int(input(\"Enter year: \"))\n",
    "mm = int(input(\"Enter month: \"))\n",
    "print(calendar.month(yy, mm))"
   ]
  },
  {
   "cell_type": "markdown",
   "id": "c415a5e3",
   "metadata": {},
   "source": [
    "Prime Number Check Between 2 Intervals "
   ]
  },
  {
   "cell_type": "code",
   "execution_count": 14,
   "id": "6b2284da",
   "metadata": {},
   "outputs": [
    {
     "name": "stdout",
     "output_type": "stream",
     "text": [
      "Prime numbers between 10 and 45 are:\n",
      "11\n",
      "13\n",
      "17\n",
      "19\n",
      "23\n",
      "29\n",
      "31\n",
      "37\n",
      "41\n",
      "43\n"
     ]
    }
   ],
   "source": [
    "lower = 10\n",
    "upper = 45\n",
    "print(f\"Prime numbers between {lower} and {upper} are:\")\n",
    "for num in range(lower, upper + 1):\n",
    "    if num > 1:\n",
    "        for i in range(2,num):\n",
    "            if (num % i) == 0:\n",
    "                break\n",
    "        else:\n",
    "            print(num)"
   ]
  },
  {
   "cell_type": "markdown",
   "id": "a81a2a17",
   "metadata": {},
   "source": [
    "Factorial"
   ]
  },
  {
   "cell_type": "code",
   "execution_count": 17,
   "id": "1a207bf8",
   "metadata": {},
   "outputs": [
    {
     "name": "stdout",
     "output_type": "stream",
     "text": [
      "The number you select is  23\n",
      "The factorial of 23 is 25852016738884976640000\n"
     ]
    }
   ],
   "source": [
    "number = int(input(\"Enter a number: \"))\n",
    "print( \"The number you select is \",number)\n",
    "factorial = 1\n",
    "if number < 0:\n",
    "    print(\"Sorry, factorial does not exist for negative numbers\")\n",
    "elif number == 0:\n",
    "    print(\"The factorial of 0 is 1\")\n",
    "else:\n",
    "    for i in range(1, number + 1):\n",
    "        factorial = factorial * i\n",
    "    print(f\"The factorial of {number} is {factorial}\")"
   ]
  },
  {
   "cell_type": "markdown",
   "id": "e289319c",
   "metadata": {},
   "source": [
    "Multiplication Table"
   ]
  },
  {
   "cell_type": "code",
   "execution_count": 18,
   "id": "3d3dda74",
   "metadata": {},
   "outputs": [
    {
     "name": "stdout",
     "output_type": "stream",
     "text": [
      "Multiplication table of 43 is:\n",
      "43 x 1 = 43\n",
      "43 x 2 = 86\n",
      "43 x 3 = 129\n",
      "43 x 4 = 172\n",
      "43 x 5 = 215\n",
      "43 x 6 = 258\n",
      "43 x 7 = 301\n",
      "43 x 8 = 344\n",
      "43 x 9 = 387\n",
      "43 x 10 = 430\n"
     ]
    }
   ],
   "source": [
    "num = int(input(\"Enter a number: \"))\n",
    "print(f\"Multiplication table of {num} is:\")\n",
    "\n",
    "for i in range(1, 11):\n",
    "    print(f\"{num} x {i} = {num*i}\")"
   ]
  },
  {
   "cell_type": "markdown",
   "id": "68551e9a",
   "metadata": {},
   "source": [
    "Sum of Natural Number "
   ]
  },
  {
   "cell_type": "code",
   "execution_count": 21,
   "id": "fb11c200",
   "metadata": {},
   "outputs": [
    {
     "name": "stdout",
     "output_type": "stream",
     "text": [
      "The sum of first 35 natural number is : 630\n"
     ]
    }
   ],
   "source": [
    "limit = int(input(\"Enter a limit : \"))\n",
    "sum=0\n",
    "for i in range(1,limit+1):\n",
    "    sum+=i\n",
    "print(\"The sum of first\",limit,\"natural number is :\",sum)"
   ]
  },
  {
   "cell_type": "markdown",
   "id": "d0cec44f",
   "metadata": {},
   "source": [
    "Body Mass Index"
   ]
  },
  {
   "cell_type": "code",
   "execution_count": 25,
   "id": "ff3580d6",
   "metadata": {},
   "outputs": [
    {
     "name": "stdout",
     "output_type": "stream",
     "text": [
      "Welcome to BMI calculator\n",
      "Your BMI is: 21\n",
      "You have a normal weight.\n"
     ]
    }
   ],
   "source": [
    "def bpdy_mass_index(height, weight):\n",
    "    return round(weight / (height ** 2))\n",
    "\n",
    "height = float(input(\"Enter your height in meters: \"))\n",
    "weight = float(input(\"Enter your weight in kilograms: \"))\n",
    "\n",
    "print(\"Welcome to BMI calculator\")\n",
    "\n",
    "BM1 = bpdy_mass_index(height,weight)\n",
    "print(\"Your BMI is:\", BM1)\n",
    "\n",
    "if BM1 < 18.5:\n",
    "    print(\"You are underweight.\")\n",
    "elif 18.5 <= BM1 < 24.9:\n",
    "    print(\"You have a normal weight.\")\n",
    "elif 25 <= BM1 < 29.9:\n",
    "    print(\"You are overweight.\")\n",
    "else:\n",
    "    print(\"You are obese.\")"
   ]
  },
  {
   "cell_type": "markdown",
   "id": "1f269dc3",
   "metadata": {},
   "source": [
    "Sort words in Alphabetic Order"
   ]
  },
  {
   "cell_type": "code",
   "execution_count": 26,
   "id": "1856c5be",
   "metadata": {},
   "outputs": [
    {
     "name": "stdout",
     "output_type": "stream",
     "text": [
      "The sorted words are:\n",
      "A\n",
      "Are\n",
      "Cutiepie\n",
      "Person\n",
      "Such\n",
      "You\n"
     ]
    }
   ],
   "source": [
    "my_str = input(\"Enter a string: \")\n",
    "words = [word.capitalize() for word in my_str.split()]\n",
    "words.sort()\n",
    "print(\"The sorted words are:\")\n",
    "for word in words:\n",
    "    print(word)"
   ]
  },
  {
   "cell_type": "markdown",
   "id": "88d86bbd",
   "metadata": {},
   "source": [
    "Multiple of a list "
   ]
  },
  {
   "cell_type": "code",
   "execution_count": null,
   "id": "022ae18c",
   "metadata": {},
   "outputs": [
    {
     "name": "stdout",
     "output_type": "stream",
     "text": [
      "The product of the list is : 122880\n"
     ]
    }
   ],
   "source": [
    "list1 = [2, 4, 6, 8, 32,10]\n",
    "\n",
    "product = 1\n",
    "for num in list1:\n",
    "    product *= num\n",
    "print(\"The product of the list is :\",product)"
   ]
  },
  {
   "cell_type": "markdown",
   "id": "051b7d59",
   "metadata": {},
   "source": [
    "Smallest of a list"
   ]
  },
  {
   "cell_type": "code",
   "execution_count": 30,
   "id": "5a42d999",
   "metadata": {},
   "outputs": [
    {
     "name": "stdout",
     "output_type": "stream",
     "text": [
      "The smallest number in the list is : -2\n",
      "The largest number in the list is : 32\n"
     ]
    }
   ],
   "source": [
    "list1 = [2, 4, -2,6, 8, 32,10]\n",
    "smallest = min(list1)\n",
    "largest = max(list1)\n",
    "print(\"The smallest number in the list is :\",smallest)\n",
    "print(\"The largest number in the list is :\",largest)"
   ]
  },
  {
   "cell_type": "markdown",
   "id": "c75bfd93",
   "metadata": {},
   "source": [
    "Count occurence of a list \n"
   ]
  },
  {
   "cell_type": "code",
   "execution_count": 37,
   "id": "c00280fb",
   "metadata": {},
   "outputs": [
    {
     "name": "stdout",
     "output_type": "stream",
     "text": [
      "Words longer than 4 characters are: ['hello', 'world', 'python', 'great', 'kinda', 'loving']\n"
     ]
    }
   ],
   "source": [
    "def find_words(words,k):\n",
    "    result = []\n",
    "    for word in words:\n",
    "        if len(word) > k and word not in result:\n",
    "            result.append(word)\n",
    "    return result\n",
    "\n",
    "word_list = [\"hello\", \"world\", \"python\", \"is\", \"great\", \"and\", \"fun\",\"kinda\",\"loving\",\"it\"]\n",
    "k = 4\n",
    "long_words = find_words(word_list, k)\n",
    "print(f\"Words longer than {k} characters are: {long_words}\")"
   ]
  },
  {
   "cell_type": "code",
   "execution_count": 1,
   "id": "cc14a4d8",
   "metadata": {},
   "outputs": [
    {
     "name": "stderr",
     "output_type": "stream",
     "text": [
      "c:\\Users\\Kartik\\miniconda3\\Lib\\site-packages\\tqdm\\auto.py:21: TqdmWarning: IProgress not found. Please update jupyter and ipywidgets. See https://ipywidgets.readthedocs.io/en/stable/user_install.html\n",
      "  from .autonotebook import tqdm as notebook_tqdm\n"
     ]
    },
    {
     "name": "stdout",
     "output_type": "stream",
     "text": [
      "Path to dataset files: C:\\Users\\Kartik\\.cache\\kagglehub\\datasets\\ashishjangra27\\airbnb-dataset\\versions\\1\n"
     ]
    }
   ],
   "source": [
    "import kagglehub\n",
    "import pandas as pd\n",
    "import seaborn as sns\n",
    "import matplotlib.pyplot as plt\n",
    "import numpy as np\n",
    "\n",
    "# Download latest version\n",
    "path = kagglehub.dataset_download(\"ashishjangra27/airbnb-dataset\")\n",
    "\n",
    "print(\"Path to dataset files:\", path)\n",
    "\n",
    "df = pd.read_csv(path + \"/airbnb.csv\")\n",
    "#print(df.head())\n",
    "#print(df.describe())\n",
    "#print(df.info())\n",
    "#print(df.columns)\n",
    "#print(df.isnull().sum())\n",
    "\n"
   ]
  },
  {
   "cell_type": "code",
   "execution_count": 25,
   "id": "e59fb86b",
   "metadata": {},
   "outputs": [
    {
     "name": "stdout",
     "output_type": "stream",
     "text": [
      "sort_by_keys\n",
      "apple: 4\n",
      "banana: 3\n",
      "grape: 5\n",
      "kiwi: 1\n",
      "orange: 2\n",
      "sort_by_Values\n",
      "1: kiwi\n",
      "2: orange\n",
      "3: banana\n",
      "4: apple\n",
      "5: grape\n"
     ]
    }
   ],
   "source": [
    "sample_dict = {'apple':4, 'banana':3, 'orange':2, 'grape':5, 'kiwi':1}\n",
    "\n",
    "sort_by_keys=dict(sorted(sample_dict.items()))\n",
    "sort_by_value = dict(sorted(sample_dict.items(), key=lambda item: item[1]))\n",
    "print(\"sort_by_keys\") \n",
    "for key,value in sort_by_keys.items():\n",
    "    print(f\"{key}: {value}\")\n",
    "\n",
    "print(\"sort_by_Values\") \n",
    "for value,key in sort_by_value.items():\n",
    "    print(f\"{key}: {value}\")"
   ]
  },
  {
   "cell_type": "code",
   "execution_count": 43,
   "id": "b000a168",
   "metadata": {},
   "outputs": [
    {
     "name": "stdout",
     "output_type": "stream",
     "text": [
      "Calculated result: 6.324555320336759\n",
      "The result is good and under control\n"
     ]
    }
   ],
   "source": [
    "import math\n",
    "\n",
    "C = 50\n",
    "D = int(input(\"Enter the value of D : \"))\n",
    "H = 30\n",
    "number = (2 * C * D) / H\n",
    "result = math.sqrt(number)\n",
    "\n",
    "print(f\"Calculated result: {result}\")\n",
    "\n",
    "# Use if-elif-else for range checking\n",
    "if result == 0:\n",
    "    print(\"The result is zero\")\n",
    "elif 0 < result < 1:\n",
    "    print(\"The result is a small positive number\")\n",
    "elif 1 <= result < 25:\n",
    "    print(\"The result is good and under control\")\n",
    "elif result >= 25:\n",
    "    print(\"You reached the limit - result is 25 or higher\")\n",
    "else:\n",
    "    print(\"Unexpected result\")\n"
   ]
  },
  {
   "cell_type": "code",
   "execution_count": 2,
   "id": "2df4c0eb",
   "metadata": {},
   "outputs": [
    {
     "name": "stdout",
     "output_type": "stream",
     "text": [
      "\n",
      "Personal Finance Calculator\n",
      "1. Add Income\n",
      "2. Add Expense\n",
      "3. View Summary\n",
      "4. Visualize Data\n",
      "5. Exit\n"
     ]
    },
    {
     "data": {
      "image/png": "[encoded data removed]",
      "text/plain": [
       "<Figure size 1000x600 with 1 Axes>"
      ]
     },
     "metadata": {},
     "output_type": "display_data"
    },
    {
     "name": "stdout",
     "output_type": "stream",
     "text": [
      "\n",
      "Personal Finance Calculator\n",
      "1. Add Income\n",
      "2. Add Expense\n",
      "3. View Summary\n",
      "4. Visualize Data\n",
      "5. Exit\n",
      "Income added successfully.\n",
      "\n",
      "Personal Finance Calculator\n",
      "1. Add Income\n",
      "2. Add Expense\n",
      "3. View Summary\n",
      "4. Visualize Data\n",
      "5. Exit\n",
      "Expense added successfully.\n",
      "\n",
      "Personal Finance Calculator\n",
      "1. Add Income\n",
      "2. Add Expense\n",
      "3. View Summary\n",
      "4. Visualize Data\n",
      "5. Exit\n"
     ]
    },
    {
     "data": {
      "image/png": "[encoded data removed]",
      "text/plain": [
       "<Figure size 800x800 with 1 Axes>"
      ]
     },
     "metadata": {},
     "output_type": "display_data"
    },
    {
     "name": "stdout",
     "output_type": "stream",
     "text": [
      "\n",
      "Personal Finance Calculator\n",
      "1. Add Income\n",
      "2. Add Expense\n",
      "3. View Summary\n",
      "4. Visualize Data\n",
      "5. Exit\n"
     ]
    },
    {
     "data": {
      "image/png": "[encoded data removed]",
      "text/plain": [
       "<Figure size 1000x600 with 1 Axes>"
      ]
     },
     "metadata": {},
     "output_type": "display_data"
    },
    {
     "name": "stdout",
     "output_type": "stream",
     "text": [
      "\n",
      "Personal Finance Calculator\n",
      "1. Add Income\n",
      "2. Add Expense\n",
      "3. View Summary\n",
      "4. Visualize Data\n",
      "5. Exit\n"
     ]
    },
    {
     "data": {
      "image/png": "[encoded data removed]",
      "text/plain": [
       "<Figure size 1000x600 with 1 Axes>"
      ]
     },
     "metadata": {},
     "output_type": "display_data"
    },
    {
     "name": "stdout",
     "output_type": "stream",
     "text": [
      "\n",
      "Personal Finance Calculator\n",
      "1. Add Income\n",
      "2. Add Expense\n",
      "3. View Summary\n",
      "4. Visualize Data\n",
      "5. Exit\n",
      "You selected to exit. Goodbye!\n"
     ]
    }
   ],
   "source": [
    "# Personal finance calculator\n",
    "import datetime\n",
    "import calendar\n",
    "import math\n",
    "import json\n",
    "import seaborn as sns\n",
    "import pandas as pd\n",
    "import matplotlib.pyplot as plt\n",
    "import numpy as np\n",
    "import requests\n",
    "\n",
    "def load_data():\n",
    "    try:\n",
    "        with open ('finance_data.txt', 'r') as file:\n",
    "            data = json.load(file)\n",
    "    except FileNotFoundError:\n",
    "        return []\n",
    "    return data\n",
    "\n",
    "def save_data(data):\n",
    "    with open('finance_data.txt', 'w') as file:\n",
    "        json.dump(data, file, indent=4)\n",
    "\n",
    "def main():\n",
    "    data=load_data()\n",
    "    while True:\n",
    "        print(\"\\nPersonal Finance Calculator\")\n",
    "        print(\"1. Add Income\")\n",
    "        print(\"2. Add Expense\")\n",
    "        print(\"3. View Summary\")\n",
    "        print(\"4. Visualize Data\")\n",
    "        print(\"5. Exit\")\n",
    "        choice = input(\"Choose an option: \")\n",
    "\n",
    "        if choice == '1':\n",
    "            amount = float(input(\"Enter income amount: \"))\n",
    "            category = input(\"Enter income category: \")\n",
    "            date = input(\"Enter date (YYYY-MM-DD) or leave blank for today: \")\n",
    "            if not date:\n",
    "                date = str(datetime.date.today())\n",
    "            data.append({\"type\": \"income\", \"amount\": amount, \"category\": category, \"date\": date})\n",
    "            save_data(data)\n",
    "            print(\"Income added successfully.\")\n",
    "\n",
    "        elif choice == '2':\n",
    "            amount = float(input(\"Enter expense amount: \"))\n",
    "            category = input(\"Enter expense category: \")\n",
    "            date = input(\"Enter date (YYYY-MM-DD) or leave blank for today: \")\n",
    "            if not date:\n",
    "                date = str(datetime.date.today())\n",
    "            data.append({\"type\": \"expense\", \"amount\": amount, \"category\": category, \"date\": date})\n",
    "            save_data(data)\n",
    "            print(\"Expense added successfully.\")\n",
    "\n",
    "        elif choice == '3':\n",
    "            total_income = sum(item['amount'] for item in data if item['type'] == 'income')\n",
    "            total_expense = sum(item['amount'] for item in data if item['type'] == 'expense')\n",
    "            balance = total_income - total_expense\n",
    "            print(f\"\\nTotal Income: {total_income}\")\n",
    "            print(f\"Total Expense: {total_expense}\")\n",
    "            print(f\"Balance: {balance}\")\n",
    "\n",
    "        elif choice == '4':\n",
    "            df = pd.DataFrame(data)\n",
    "            if df.empty:\n",
    "                print(\"No data to visualize.\")\n",
    "                continue\n",
    "            option = input(\"Visualize by (1) bar chart ,(2) pie chart or (3) histogram ?\" )\n",
    "            if option == '1':\n",
    "                plt.figure(figsize=(10,6))\n",
    "                sns.barplot(x='category', y='amount', hue='type', data=df)\n",
    "                plt.title('Income and Expenses by Category')\n",
    "                plt.show()\n",
    "            elif option == '2':\n",
    "                expense_data = df[df['type'] == 'expense']\n",
    "                expense_summary = expense_data.groupby('category')['amount'].sum()\n",
    "                plt.figure(figsize=(8,8))\n",
    "                expense_summary.plot.pie(autopct='%1.1f%%')\n",
    "                plt.title('Expense Distribution by Category')\n",
    "                plt.ylabel('')\n",
    "                plt.show()\n",
    "            elif option == '3':\n",
    "                plt.figure(figsize=(10,6))\n",
    "                sns.histplot(data=df, x='amount', hue='type', bins=20, kde=True)\n",
    "                plt.title('Distribution of Income and Expenses')\n",
    "                plt.show()\n",
    "            else:\n",
    "                print(\"Invalid visualization option.\")\n",
    "            \n",
    "        else:\n",
    "            print(\"You selected to exit. Goodbye!\")\n",
    "            break\n",
    "\n",
    "if __name__ == \"__main__\":\n",
    "    main()\n",
    "\n"
   ]
  },
  {
   "cell_type": "code",
   "execution_count": null,
   "id": "caf22b3c",
   "metadata": {},
   "outputs": [
    {
     "name": "stdout",
     "output_type": "stream",
     "text": [
      "11.832159566199232\n"
     ]
    }
   ],
   "source": [
    "import math \n",
    "C=50 \n",
    "H=30\n",
    "def calculate_Q(D):\n",
    "    return math.sqrt((2*C*D)/H)\n",
    "input_sequence = input(\"Enter the values of D separated by commas: \")\n",
    "D_values= input_sequence.split(',')\n",
    "Result= [calculate_Q(int(D)) for D in D_values]\n",
    "print(','.join(map(str, Result)))\n"
   ]
  },
  {
   "cell_type": "code",
   "execution_count": 5,
   "id": "5861af71",
   "metadata": {},
   "outputs": [
    {
     "name": "stdout",
     "output_type": "stream",
     "text": [
      "are die going soon to we\n"
     ]
    }
   ],
   "source": [
    "input_sequence = input(\"Enter a sequence of whitespace separated words: \")\n",
    "words = set(input_sequence.split())\n",
    "sorted_words = sorted(words)\n",
    "result=' '.join(sorted_words)\n",
    "print(result)"
   ]
  },
  {
   "cell_type": "code",
   "execution_count": 6,
   "id": "f78e874b",
   "metadata": {},
   "outputs": [
    {
     "name": "stdout",
     "output_type": "stream",
     "text": [
      "I Play Hockey.\n",
      "I Play Football.\n",
      "I Love Hockey.\n",
      "I Love Football.\n",
      "You Play Hockey.\n",
      "You Play Football.\n",
      "You Love Hockey.\n",
      "You Love Football.\n"
     ]
    }
   ],
   "source": [
    "subjects = ['I', 'You']\n",
    "verbs = ['Play', 'Love']\n",
    "objects = ['Hockey', 'Football']\n",
    "sentences = []\n",
    "\n",
    "for s in subjects:\n",
    "    for v in verbs:\n",
    "        for o in objects:\n",
    "            sentence=(f\"{s} {v} {o}.\")\n",
    "            sentences.append(sentence)\n",
    "for sentence in sentences:\n",
    "    print(sentence)"
   ]
  },
  {
   "cell_type": "code",
   "execution_count": 20,
   "id": "a711a736",
   "metadata": {},
   "outputs": [
    {
     "data": {
      "text/plain": [
       "1643.62"
      ]
     },
     "execution_count": 20,
     "metadata": {},
     "output_type": "execute_result"
    }
   ],
   "source": [
    "# COMPOUND INTEREST \n",
    "def compound_interest(principal, rate, time,n):\n",
    "    amount = principal * (1 + rate / n) ** (n * time)\n",
    "    return round (amount,2)\n",
    "\n",
    "compound_interest(1000, 0.05, 10, 4)"
   ]
  },
  {
   "cell_type": "code",
   "execution_count": 22,
   "id": "51adda7d",
   "metadata": {},
   "outputs": [
    {
     "data": {
      "text/plain": [
       "True"
      ]
     },
     "execution_count": 22,
     "metadata": {},
     "output_type": "execute_result"
    }
   ],
   "source": [
    "def checker(list1,list2):\n",
    "    return list1[:-1] == list2[1:]\n",
    "\n",
    "checker([1,2,3,4,5],[0,1,2,3,4])"
   ]
  },
  {
   "cell_type": "code",
   "execution_count": 25,
   "id": "20a09b01",
   "metadata": {},
   "outputs": [
    {
     "data": {
      "text/plain": [
       "True"
      ]
     },
     "execution_count": 25,
     "metadata": {},
     "output_type": "execute_result"
    }
   ],
   "source": [
    "def is_symmetrical(num):\n",
    "    num_str = str(num)\n",
    "    return num_str == num_str[::-1]\n",
    "\n",
    "is_symmetrical(121)"
   ]
  },
  {
   "cell_type": "code",
   "execution_count": null,
   "id": "e06c084d",
   "metadata": {},
   "outputs": [
    {
     "data": {
      "text/plain": [
       "5"
      ]
     },
     "execution_count": 26,
     "metadata": {},
     "output_type": "execute_result"
    }
   ],
   "source": [
    "def satisfy(lst):\n",
    "    unique_elements = set(lst)\n",
    "    return len(unique_elements)\n",
    "\n",
    "satisfy([1,2,2,3,4,4,5,5,5])"
   ]
  },
  {
   "cell_type": "code",
   "execution_count": 29,
   "id": "f4aa0756",
   "metadata": {},
   "outputs": [
    {
     "data": {
      "text/plain": [
       "False"
      ]
     },
     "execution_count": 29,
     "metadata": {},
     "output_type": "execute_result"
    }
   ],
   "source": [
    "def is_triplet(a,b,c):\n",
    "    sorted_nums = sorted([a, b, c])\n",
    "    return sorted_nums[0]**2 + sorted_nums[1] == sorted_nums\n",
    "\n",
    "is_triplet(10,21,31)"
   ]
  },
  {
   "cell_type": "code",
   "execution_count": null,
   "id": "0709eb5a",
   "metadata": {},
   "outputs": [],
   "source": []
  }
 ],
 "metadata": {
  "kernelspec": {
   "display_name": "base",
   "language": "python",
   "name": "python3"
  },
  "language_info": {
   "codemirror_mode": {
    "name": "ipython",
    "version": 3
   },
   "file_extension": ".py",
   "mimetype": "text/x-python",
   "name": "python",
   "nbconvert_exporter": "python",
   "pygments_lexer": "ipython3",
   "version": "3.13.2"
  }
 },
 "nbformat": 4,
 "nbformat_minor": 5
}
