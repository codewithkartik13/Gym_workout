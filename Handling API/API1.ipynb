{
 "cells": [
  {
   "cell_type": "code",
   "execution_count": null,
   "id": "618e6383",
   "metadata": {},
   "outputs": [
    {
     "name": "stdout",
     "output_type": "stream",
     "text": [
      "Username: yellowladybug427, Country: Turkey\n"
     ]
    }
   ],
   "source": [
    "import requests\n",
    "\n",
    "def fetch_random_user():\n",
    "    url = \"https://api.freeapi.app/api/v1/public/randomusers/user/random\"\n",
    "    response = requests.get(url)\n",
    "    data=response.json()\n",
    "\n",
    "    if data[\"success\"] and \"data\" in data:\n",
    "        user_data =data[\"data\"]\n",
    "        username=user_data[\"login\"][\"username\"]\n",
    "        country=user_data[\"location\"][\"country\"]\n",
    "        return username, country\n",
    "    else:\n",
    "        raise Exception(\"Failed to fetch user data\")\n",
    "    \n",
    "def main():\n",
    "    try:\n",
    "        username, country = fetch_random_user()\n",
    "        print(f\"Username: {username}, Country: {country}\")\n",
    "    except Exception as e:\n",
    "        print(f\"Error:{str(e)}\")\n",
    "    \n",
    "if __name__ == \"__main__\":\n",
    "    main()\n"
   ]
  },
  {
   "cell_type": "code",
   "execution_count": 20,
   "id": "8752b9a7",
   "metadata": {},
   "outputs": [
    {
     "name": "stdout",
     "output_type": "stream",
     "text": [
      "🎭 Random Joke:\n",
      "I'm reading a book about anti-gravity. It's impossible to put down!\n"
     ]
    }
   ],
   "source": [
    "import requests\n",
    "\n",
    "def get_random_joke():\n",
    "    try:\n",
    "        response = requests.get(\"https://v2.jokeapi.dev/joke/Any?type=single\")\n",
    "        data = response.json()\n",
    "        \n",
    "        if not data.get(\"error\"):\n",
    "            return data.get(\"joke\", \"No joke available\")\n",
    "        else:\n",
    "            return \"API error occurred\"\n",
    "            \n",
    "    except:\n",
    "        return \"Failed to fetch joke\"\n",
    "\n",
    "print(\"🎭 Random Joke:\")\n",
    "print(get_random_joke())\n"
   ]
  }
 ],
 "metadata": {
  "kernelspec": {
   "display_name": "base",
   "language": "python",
   "name": "python3"
  },
  "language_info": {
   "codemirror_mode": {
    "name": "ipython",
    "version": 3
   },
   "file_extension": ".py",
   "mimetype": "text/x-python",
   "name": "python",
   "nbconvert_exporter": "python",
   "pygments_lexer": "ipython3",
   "version": "3.13.2"
  }
 },
 "nbformat": 4,
 "nbformat_minor": 5
}
